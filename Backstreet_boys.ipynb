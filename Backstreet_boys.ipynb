{
 "cells": [
  {
   "cell_type": "markdown",
   "metadata": {},
   "source": [
    "### Análisis de datos: Backstreet boys \n",
    "#### Albums y palabras usadas "
   ]
  },
  {
   "cell_type": "markdown",
   "metadata": {},
   "source": [
    "<img src=\"Back.jpg\">"
   ]
  },
  {
   "cell_type": "markdown",
   "metadata": {},
   "source": [
    "#Importando librerias necesarias\n",
    "\n",
    "import pandas as pd\n",
    "import numpy as np\n",
    "import seaborn as sns\n",
    "from datetime import datetime\n",
    "import sys \n",
    "!{sys.executable} -m pip install textblob\n",
    "import nltk"
   ]
  },
  {
   "cell_type": "code",
   "execution_count": 5,
   "metadata": {},
   "outputs": [],
   "source": [
    "from textblob import TextBlob"
   ]
  },
  {
   "cell_type": "code",
   "execution_count": 6,
   "metadata": {},
   "outputs": [],
   "source": [
    "#Importando bases\n",
    "\n",
    "lyrics = pd.read_excel('https://query.data.world/s/j3uq3sx7skgfuuth7fs6ui24j3dl22')\n",
    "words = pd.read_excel('https://query.data.world/s/m4shf5r6nwxxzeaugxs273o435bxyf')\n"
   ]
  },
  {
   "cell_type": "code",
   "execution_count": 7,
   "metadata": {},
   "outputs": [
    {
     "data": {
      "text/html": [
       "<div>\n",
       "<style scoped>\n",
       "    .dataframe tbody tr th:only-of-type {\n",
       "        vertical-align: middle;\n",
       "    }\n",
       "\n",
       "    .dataframe tbody tr th {\n",
       "        vertical-align: top;\n",
       "    }\n",
       "\n",
       "    .dataframe thead th {\n",
       "        text-align: right;\n",
       "    }\n",
       "</style>\n",
       "<table border=\"1\" class=\"dataframe\">\n",
       "  <thead>\n",
       "    <tr style=\"text-align: right;\">\n",
       "      <th></th>\n",
       "      <th>Unnamed: 0</th>\n",
       "      <th>Unnamed: 0.1</th>\n",
       "      <th>Album</th>\n",
       "      <th>Type of Album</th>\n",
       "      <th>Year of Release</th>\n",
       "      <th>Title</th>\n",
       "      <th>Duration(minutes:seconds)</th>\n",
       "      <th>Lyrics</th>\n",
       "      <th>Positive</th>\n",
       "      <th>Negative</th>\n",
       "      <th>Neutral</th>\n",
       "      <th>Compound</th>\n",
       "    </tr>\n",
       "  </thead>\n",
       "  <tbody>\n",
       "    <tr>\n",
       "      <th>0</th>\n",
       "      <td>0</td>\n",
       "      <td>0</td>\n",
       "      <td>Backstreet Boys</td>\n",
       "      <td>Studio albums</td>\n",
       "      <td>1996-05-06</td>\n",
       "      <td>We've Got It Goin' On</td>\n",
       "      <td>03:41:00</td>\n",
       "      <td>Everybody groove to the music\\nEverybody jam\\n...</td>\n",
       "      <td>4.4</td>\n",
       "      <td>4.0</td>\n",
       "      <td>91.7</td>\n",
       "      <td>27.32</td>\n",
       "    </tr>\n",
       "    <tr>\n",
       "      <th>1</th>\n",
       "      <td>1</td>\n",
       "      <td>1</td>\n",
       "      <td>Backstreet Boys</td>\n",
       "      <td>Studio albums</td>\n",
       "      <td>1996-05-06</td>\n",
       "      <td>Anywhere for You</td>\n",
       "      <td>04:42:00</td>\n",
       "      <td>I'd go anywhere for you\\nAnywhere you ask me t...</td>\n",
       "      <td>18.9</td>\n",
       "      <td>1.2</td>\n",
       "      <td>79.9</td>\n",
       "      <td>99.50</td>\n",
       "    </tr>\n",
       "    <tr>\n",
       "      <th>2</th>\n",
       "      <td>2</td>\n",
       "      <td>2</td>\n",
       "      <td>Backstreet Boys</td>\n",
       "      <td>Studio albums</td>\n",
       "      <td>1996-05-06</td>\n",
       "      <td>Get Down (You're the One for Me)</td>\n",
       "      <td>03:52:00</td>\n",
       "      <td>You're the one for me\\nYou're my ecstasy\\nYou'...</td>\n",
       "      <td>16.4</td>\n",
       "      <td>3.8</td>\n",
       "      <td>79.9</td>\n",
       "      <td>99.67</td>\n",
       "    </tr>\n",
       "    <tr>\n",
       "      <th>3</th>\n",
       "      <td>3</td>\n",
       "      <td>3</td>\n",
       "      <td>Backstreet Boys</td>\n",
       "      <td>Studio albums</td>\n",
       "      <td>1996-05-06</td>\n",
       "      <td>I'll Never Break Your Heart</td>\n",
       "      <td>04:48:00</td>\n",
       "      <td>Baby, I know you're hurting. Right now you fee...</td>\n",
       "      <td>11.6</td>\n",
       "      <td>20.2</td>\n",
       "      <td>68.2</td>\n",
       "      <td>-99.13</td>\n",
       "    </tr>\n",
       "    <tr>\n",
       "      <th>4</th>\n",
       "      <td>4</td>\n",
       "      <td>4</td>\n",
       "      <td>Backstreet Boys</td>\n",
       "      <td>Studio albums</td>\n",
       "      <td>1996-05-06</td>\n",
       "      <td>Quit Playin' Games (with My Heart)</td>\n",
       "      <td>03:53:00</td>\n",
       "      <td>Even in my heart I see\\nYou're not bein' true ...</td>\n",
       "      <td>13.6</td>\n",
       "      <td>6.4</td>\n",
       "      <td>80.0</td>\n",
       "      <td>95.67</td>\n",
       "    </tr>\n",
       "  </tbody>\n",
       "</table>\n",
       "</div>"
      ],
      "text/plain": [
       "   Unnamed: 0  Unnamed: 0.1            Album  Type of Album Year of Release  \\\n",
       "0           0             0  Backstreet Boys  Studio albums      1996-05-06   \n",
       "1           1             1  Backstreet Boys  Studio albums      1996-05-06   \n",
       "2           2             2  Backstreet Boys  Studio albums      1996-05-06   \n",
       "3           3             3  Backstreet Boys  Studio albums      1996-05-06   \n",
       "4           4             4  Backstreet Boys  Studio albums      1996-05-06   \n",
       "\n",
       "                                Title Duration(minutes:seconds)  \\\n",
       "0               We've Got It Goin' On                  03:41:00   \n",
       "1                    Anywhere for You                  04:42:00   \n",
       "2    Get Down (You're the One for Me)                  03:52:00   \n",
       "3         I'll Never Break Your Heart                  04:48:00   \n",
       "4  Quit Playin' Games (with My Heart)                  03:53:00   \n",
       "\n",
       "                                              Lyrics  Positive  Negative  \\\n",
       "0  Everybody groove to the music\\nEverybody jam\\n...       4.4       4.0   \n",
       "1  I'd go anywhere for you\\nAnywhere you ask me t...      18.9       1.2   \n",
       "2  You're the one for me\\nYou're my ecstasy\\nYou'...      16.4       3.8   \n",
       "3  Baby, I know you're hurting. Right now you fee...      11.6      20.2   \n",
       "4  Even in my heart I see\\nYou're not bein' true ...      13.6       6.4   \n",
       "\n",
       "   Neutral  Compound  \n",
       "0     91.7     27.32  \n",
       "1     79.9     99.50  \n",
       "2     79.9     99.67  \n",
       "3     68.2    -99.13  \n",
       "4     80.0     95.67  "
      ]
     },
     "execution_count": 7,
     "metadata": {},
     "output_type": "execute_result"
    }
   ],
   "source": [
    "#Conociendo mis bases \n",
    "#Vamos a conocer los primeros cinco resultados de la base Lyrics\n",
    "\n",
    "lyrics.head()"
   ]
  },
  {
   "cell_type": "code",
   "execution_count": 8,
   "metadata": {},
   "outputs": [
    {
     "data": {
      "text/html": [
       "<div>\n",
       "<style scoped>\n",
       "    .dataframe tbody tr th:only-of-type {\n",
       "        vertical-align: middle;\n",
       "    }\n",
       "\n",
       "    .dataframe tbody tr th {\n",
       "        vertical-align: top;\n",
       "    }\n",
       "\n",
       "    .dataframe thead th {\n",
       "        text-align: right;\n",
       "    }\n",
       "</style>\n",
       "<table border=\"1\" class=\"dataframe\">\n",
       "  <thead>\n",
       "    <tr style=\"text-align: right;\">\n",
       "      <th></th>\n",
       "      <th>Unnamed: 0</th>\n",
       "      <th>Album</th>\n",
       "      <th>Type of Album</th>\n",
       "      <th>Year of Release</th>\n",
       "      <th>Title</th>\n",
       "      <th>Lyrics</th>\n",
       "      <th>Words</th>\n",
       "    </tr>\n",
       "  </thead>\n",
       "  <tbody>\n",
       "    <tr>\n",
       "      <th>0</th>\n",
       "      <td>0</td>\n",
       "      <td>Backstreet Boys</td>\n",
       "      <td>Studio albums</td>\n",
       "      <td>1996-05-06</td>\n",
       "      <td>We've Got It Goin' On</td>\n",
       "      <td>Everybody groove to the music Everybody jam  W...</td>\n",
       "      <td>Everybody</td>\n",
       "    </tr>\n",
       "    <tr>\n",
       "      <th>1</th>\n",
       "      <td>1</td>\n",
       "      <td>Backstreet Boys</td>\n",
       "      <td>Studio albums</td>\n",
       "      <td>1996-05-06</td>\n",
       "      <td>We've Got It Goin' On</td>\n",
       "      <td>Everybody groove to the music Everybody jam  W...</td>\n",
       "      <td>groove</td>\n",
       "    </tr>\n",
       "    <tr>\n",
       "      <th>2</th>\n",
       "      <td>2</td>\n",
       "      <td>Backstreet Boys</td>\n",
       "      <td>Studio albums</td>\n",
       "      <td>1996-05-06</td>\n",
       "      <td>We've Got It Goin' On</td>\n",
       "      <td>Everybody groove to the music Everybody jam  W...</td>\n",
       "      <td>to</td>\n",
       "    </tr>\n",
       "    <tr>\n",
       "      <th>3</th>\n",
       "      <td>3</td>\n",
       "      <td>Backstreet Boys</td>\n",
       "      <td>Studio albums</td>\n",
       "      <td>1996-05-06</td>\n",
       "      <td>We've Got It Goin' On</td>\n",
       "      <td>Everybody groove to the music Everybody jam  W...</td>\n",
       "      <td>the</td>\n",
       "    </tr>\n",
       "    <tr>\n",
       "      <th>4</th>\n",
       "      <td>4</td>\n",
       "      <td>Backstreet Boys</td>\n",
       "      <td>Studio albums</td>\n",
       "      <td>1996-05-06</td>\n",
       "      <td>We've Got It Goin' On</td>\n",
       "      <td>Everybody groove to the music Everybody jam  W...</td>\n",
       "      <td>music</td>\n",
       "    </tr>\n",
       "  </tbody>\n",
       "</table>\n",
       "</div>"
      ],
      "text/plain": [
       "   Unnamed: 0            Album  Type of Album Year of Release  \\\n",
       "0           0  Backstreet Boys  Studio albums      1996-05-06   \n",
       "1           1  Backstreet Boys  Studio albums      1996-05-06   \n",
       "2           2  Backstreet Boys  Studio albums      1996-05-06   \n",
       "3           3  Backstreet Boys  Studio albums      1996-05-06   \n",
       "4           4  Backstreet Boys  Studio albums      1996-05-06   \n",
       "\n",
       "                   Title                                             Lyrics  \\\n",
       "0  We've Got It Goin' On  Everybody groove to the music Everybody jam  W...   \n",
       "1  We've Got It Goin' On  Everybody groove to the music Everybody jam  W...   \n",
       "2  We've Got It Goin' On  Everybody groove to the music Everybody jam  W...   \n",
       "3  We've Got It Goin' On  Everybody groove to the music Everybody jam  W...   \n",
       "4  We've Got It Goin' On  Everybody groove to the music Everybody jam  W...   \n",
       "\n",
       "       Words  \n",
       "0  Everybody  \n",
       "1     groove  \n",
       "2         to  \n",
       "3        the  \n",
       "4      music  "
      ]
     },
     "execution_count": 8,
     "metadata": {},
     "output_type": "execute_result"
    }
   ],
   "source": [
    "#Vamos a conocer los primeros cinco resultados se la base words \n",
    "\n",
    "words.head()"
   ]
  },
  {
   "cell_type": "code",
   "execution_count": 9,
   "metadata": {},
   "outputs": [
    {
     "data": {
      "text/html": [
       "<div>\n",
       "<style scoped>\n",
       "    .dataframe tbody tr th:only-of-type {\n",
       "        vertical-align: middle;\n",
       "    }\n",
       "\n",
       "    .dataframe tbody tr th {\n",
       "        vertical-align: top;\n",
       "    }\n",
       "\n",
       "    .dataframe thead th {\n",
       "        text-align: right;\n",
       "    }\n",
       "</style>\n",
       "<table border=\"1\" class=\"dataframe\">\n",
       "  <thead>\n",
       "    <tr style=\"text-align: right;\">\n",
       "      <th></th>\n",
       "      <th>Unnamed: 0</th>\n",
       "      <th>Unnamed: 0.1</th>\n",
       "      <th>Album</th>\n",
       "      <th>Type of Album</th>\n",
       "      <th>Year of Release</th>\n",
       "      <th>Title</th>\n",
       "      <th>Duration(minutes:seconds)</th>\n",
       "      <th>Lyrics</th>\n",
       "      <th>Positive</th>\n",
       "      <th>Negative</th>\n",
       "      <th>Neutral</th>\n",
       "      <th>Compound</th>\n",
       "    </tr>\n",
       "  </thead>\n",
       "  <tbody>\n",
       "    <tr>\n",
       "      <th>104</th>\n",
       "      <td>104</td>\n",
       "      <td>104</td>\n",
       "      <td>DNA</td>\n",
       "      <td>Studio albums</td>\n",
       "      <td>2019-02-01</td>\n",
       "      <td>No Place</td>\n",
       "      <td>02:59:00</td>\n",
       "      <td>I've been to Paris, made my way down to Rome\\n...</td>\n",
       "      <td>19.9</td>\n",
       "      <td>15.5</td>\n",
       "      <td>64.5</td>\n",
       "      <td>62.66</td>\n",
       "    </tr>\n",
       "    <tr>\n",
       "      <th>105</th>\n",
       "      <td>105</td>\n",
       "      <td>105</td>\n",
       "      <td>DNA</td>\n",
       "      <td>Studio albums</td>\n",
       "      <td>2019-02-02</td>\n",
       "      <td>Chateau</td>\n",
       "      <td>03:08:00</td>\n",
       "      <td>I saw you on the corner\\nYou look happy, happi...</td>\n",
       "      <td>9.6</td>\n",
       "      <td>1.1</td>\n",
       "      <td>89.3</td>\n",
       "      <td>96.57</td>\n",
       "    </tr>\n",
       "    <tr>\n",
       "      <th>106</th>\n",
       "      <td>106</td>\n",
       "      <td>106</td>\n",
       "      <td>DNA</td>\n",
       "      <td>Studio albums</td>\n",
       "      <td>2019-02-03</td>\n",
       "      <td>The Way It Was</td>\n",
       "      <td>03:26:00</td>\n",
       "      <td>You kiss a little different now\\nYou changed y...</td>\n",
       "      <td>10.9</td>\n",
       "      <td>9.8</td>\n",
       "      <td>79.4</td>\n",
       "      <td>17.90</td>\n",
       "    </tr>\n",
       "    <tr>\n",
       "      <th>107</th>\n",
       "      <td>107</td>\n",
       "      <td>107</td>\n",
       "      <td>DNA</td>\n",
       "      <td>Studio albums</td>\n",
       "      <td>2019-02-04</td>\n",
       "      <td>Just Like You Like It</td>\n",
       "      <td>03:42:00</td>\n",
       "      <td>Turn that music way down low\\nWe'll take it ni...</td>\n",
       "      <td>45.0</td>\n",
       "      <td>0.9</td>\n",
       "      <td>54.1</td>\n",
       "      <td>99.97</td>\n",
       "    </tr>\n",
       "    <tr>\n",
       "      <th>108</th>\n",
       "      <td>108</td>\n",
       "      <td>108</td>\n",
       "      <td>DNA</td>\n",
       "      <td>Studio albums</td>\n",
       "      <td>2019-02-05</td>\n",
       "      <td>Okay</td>\n",
       "      <td>02:31:00</td>\n",
       "      <td>July\\nIt's only been a month since I met you\\n...</td>\n",
       "      <td>22.0</td>\n",
       "      <td>7.9</td>\n",
       "      <td>70.1</td>\n",
       "      <td>99.67</td>\n",
       "    </tr>\n",
       "  </tbody>\n",
       "</table>\n",
       "</div>"
      ],
      "text/plain": [
       "     Unnamed: 0  Unnamed: 0.1 Album  Type of Album Year of Release  \\\n",
       "104         104           104   DNA  Studio albums      2019-02-01   \n",
       "105         105           105   DNA  Studio albums      2019-02-02   \n",
       "106         106           106   DNA  Studio albums      2019-02-03   \n",
       "107         107           107   DNA  Studio albums      2019-02-04   \n",
       "108         108           108   DNA  Studio albums      2019-02-05   \n",
       "\n",
       "                     Title Duration(minutes:seconds)  \\\n",
       "104               No Place                  02:59:00   \n",
       "105                Chateau                  03:08:00   \n",
       "106         The Way It Was                  03:26:00   \n",
       "107  Just Like You Like It                  03:42:00   \n",
       "108                   Okay                  02:31:00   \n",
       "\n",
       "                                                Lyrics  Positive  Negative  \\\n",
       "104  I've been to Paris, made my way down to Rome\\n...      19.9      15.5   \n",
       "105  I saw you on the corner\\nYou look happy, happi...       9.6       1.1   \n",
       "106  You kiss a little different now\\nYou changed y...      10.9       9.8   \n",
       "107  Turn that music way down low\\nWe'll take it ni...      45.0       0.9   \n",
       "108  July\\nIt's only been a month since I met you\\n...      22.0       7.9   \n",
       "\n",
       "     Neutral  Compound  \n",
       "104     64.5     62.66  \n",
       "105     89.3     96.57  \n",
       "106     79.4     17.90  \n",
       "107     54.1     99.97  \n",
       "108     70.1     99.67  "
      ]
     },
     "execution_count": 9,
     "metadata": {},
     "output_type": "execute_result"
    }
   ],
   "source": [
    "#Conociendo los ultimos cinco resultados de lyrics \n",
    "\n",
    "lyrics.tail()"
   ]
  },
  {
   "cell_type": "code",
   "execution_count": 10,
   "metadata": {},
   "outputs": [
    {
     "data": {
      "text/html": [
       "<div>\n",
       "<style scoped>\n",
       "    .dataframe tbody tr th:only-of-type {\n",
       "        vertical-align: middle;\n",
       "    }\n",
       "\n",
       "    .dataframe tbody tr th {\n",
       "        vertical-align: top;\n",
       "    }\n",
       "\n",
       "    .dataframe thead th {\n",
       "        text-align: right;\n",
       "    }\n",
       "</style>\n",
       "<table border=\"1\" class=\"dataframe\">\n",
       "  <thead>\n",
       "    <tr style=\"text-align: right;\">\n",
       "      <th></th>\n",
       "      <th>Unnamed: 0</th>\n",
       "      <th>Album</th>\n",
       "      <th>Type of Album</th>\n",
       "      <th>Year of Release</th>\n",
       "      <th>Title</th>\n",
       "      <th>Lyrics</th>\n",
       "      <th>Words</th>\n",
       "    </tr>\n",
       "  </thead>\n",
       "  <tbody>\n",
       "    <tr>\n",
       "      <th>37588</th>\n",
       "      <td>37588</td>\n",
       "      <td>DNA</td>\n",
       "      <td>Studio albums</td>\n",
       "      <td>2019-02-05</td>\n",
       "      <td>Okay</td>\n",
       "      <td>July It's only been a month since I met you I ...</td>\n",
       "      <td>I'm</td>\n",
       "    </tr>\n",
       "    <tr>\n",
       "      <th>37589</th>\n",
       "      <td>37589</td>\n",
       "      <td>DNA</td>\n",
       "      <td>Studio albums</td>\n",
       "      <td>2019-02-05</td>\n",
       "      <td>Okay</td>\n",
       "      <td>July It's only been a month since I met you I ...</td>\n",
       "      <td>with</td>\n",
       "    </tr>\n",
       "    <tr>\n",
       "      <th>37590</th>\n",
       "      <td>37590</td>\n",
       "      <td>DNA</td>\n",
       "      <td>Studio albums</td>\n",
       "      <td>2019-02-05</td>\n",
       "      <td>Okay</td>\n",
       "      <td>July It's only been a month since I met you I ...</td>\n",
       "      <td>you</td>\n",
       "    </tr>\n",
       "    <tr>\n",
       "      <th>37591</th>\n",
       "      <td>37591</td>\n",
       "      <td>DNA</td>\n",
       "      <td>Studio albums</td>\n",
       "      <td>2019-02-05</td>\n",
       "      <td>Okay</td>\n",
       "      <td>July It's only been a month since I met you I ...</td>\n",
       "      <td>I'm</td>\n",
       "    </tr>\n",
       "    <tr>\n",
       "      <th>37592</th>\n",
       "      <td>37592</td>\n",
       "      <td>DNA</td>\n",
       "      <td>Studio albums</td>\n",
       "      <td>2019-02-05</td>\n",
       "      <td>Okay</td>\n",
       "      <td>July It's only been a month since I met you I ...</td>\n",
       "      <td>ok</td>\n",
       "    </tr>\n",
       "  </tbody>\n",
       "</table>\n",
       "</div>"
      ],
      "text/plain": [
       "       Unnamed: 0 Album  Type of Album Year of Release Title  \\\n",
       "37588       37588   DNA  Studio albums      2019-02-05  Okay   \n",
       "37589       37589   DNA  Studio albums      2019-02-05  Okay   \n",
       "37590       37590   DNA  Studio albums      2019-02-05  Okay   \n",
       "37591       37591   DNA  Studio albums      2019-02-05  Okay   \n",
       "37592       37592   DNA  Studio albums      2019-02-05  Okay   \n",
       "\n",
       "                                                  Lyrics Words  \n",
       "37588  July It's only been a month since I met you I ...   I'm  \n",
       "37589  July It's only been a month since I met you I ...  with  \n",
       "37590  July It's only been a month since I met you I ...   you  \n",
       "37591  July It's only been a month since I met you I ...   I'm  \n",
       "37592  July It's only been a month since I met you I ...    ok  "
      ]
     },
     "execution_count": 10,
     "metadata": {},
     "output_type": "execute_result"
    }
   ],
   "source": [
    "#Conociendo los ultimos cinco resultados en words \n",
    "\n",
    "words.tail()"
   ]
  },
  {
   "cell_type": "code",
   "execution_count": 11,
   "metadata": {},
   "outputs": [
    {
     "data": {
      "text/plain": [
       "(109, 12)"
      ]
     },
     "execution_count": 11,
     "metadata": {},
     "output_type": "execute_result"
    }
   ],
   "source": [
    "#Conociendo la forma de mi database lyrics: valores y columnas\n",
    "\n",
    "lyrics.shape"
   ]
  },
  {
   "cell_type": "code",
   "execution_count": 12,
   "metadata": {},
   "outputs": [
    {
     "data": {
      "text/plain": [
       "(37593, 7)"
      ]
     },
     "execution_count": 12,
     "metadata": {},
     "output_type": "execute_result"
    }
   ],
   "source": [
    "#Conociendo la forma de mi database words: valores y columnas\n",
    "\n",
    "words.shape"
   ]
  },
  {
   "cell_type": "code",
   "execution_count": 13,
   "metadata": {},
   "outputs": [
    {
     "data": {
      "text/plain": [
       "Index(['Unnamed: 0', 'Unnamed: 0.1', 'Album', 'Type of Album',\n",
       "       'Year of Release', 'Title', 'Duration(minutes:seconds)', 'Lyrics',\n",
       "       'Positive', 'Negative', 'Neutral', 'Compound'],\n",
       "      dtype='object')"
      ]
     },
     "execution_count": 13,
     "metadata": {},
     "output_type": "execute_result"
    }
   ],
   "source": [
    "#Nombre de columnas\n",
    "\n",
    "lyrics.columns"
   ]
  },
  {
   "cell_type": "code",
   "execution_count": 14,
   "metadata": {},
   "outputs": [
    {
     "data": {
      "text/plain": [
       "Index(['Unnamed: 0', 'Album', 'Type of Album', 'Year of Release', 'Title',\n",
       "       'Lyrics', 'Words'],\n",
       "      dtype='object')"
      ]
     },
     "execution_count": 14,
     "metadata": {},
     "output_type": "execute_result"
    }
   ],
   "source": [
    "#Nombre de palabras\n",
    "\n",
    "words.columns"
   ]
  },
  {
   "cell_type": "code",
   "execution_count": 15,
   "metadata": {},
   "outputs": [
    {
     "data": {
      "text/plain": [
       "Unnamed: 0                            int64\n",
       "Unnamed: 0.1                          int64\n",
       "Album                                object\n",
       "Type of Album                        object\n",
       "Year of Release              datetime64[ns]\n",
       "Title                                object\n",
       "Duration(minutes:seconds)            object\n",
       "Lyrics                               object\n",
       "Positive                            float64\n",
       "Negative                            float64\n",
       "Neutral                             float64\n",
       "Compound                            float64\n",
       "dtype: object"
      ]
     },
     "execution_count": 15,
     "metadata": {},
     "output_type": "execute_result"
    }
   ],
   "source": [
    "lyrics.dtypes"
   ]
  },
  {
   "cell_type": "code",
   "execution_count": 16,
   "metadata": {},
   "outputs": [
    {
     "data": {
      "text/plain": [
       "Unnamed: 0                  int64\n",
       "Album                      object\n",
       "Type of Album              object\n",
       "Year of Release    datetime64[ns]\n",
       "Title                      object\n",
       "Lyrics                     object\n",
       "Words                      object\n",
       "dtype: object"
      ]
     },
     "execution_count": 16,
     "metadata": {},
     "output_type": "execute_result"
    }
   ],
   "source": [
    "words.dtypes"
   ]
  },
  {
   "cell_type": "code",
   "execution_count": 17,
   "metadata": {},
   "outputs": [
    {
     "data": {
      "text/plain": [
       "Unnamed: 0            0\n",
       "Album                 0\n",
       "Type of Album         0\n",
       "Year of Release       0\n",
       "Title                 0\n",
       "Lyrics                0\n",
       "Words              1049\n",
       "dtype: int64"
      ]
     },
     "execution_count": 17,
     "metadata": {},
     "output_type": "execute_result"
    }
   ],
   "source": [
    "#Vamos nuevamente \n",
    "\n",
    "words.isnull().sum()"
   ]
  },
  {
   "cell_type": "code",
   "execution_count": 18,
   "metadata": {},
   "outputs": [
    {
     "data": {
      "text/plain": [
       "Unnamed: 0                   0\n",
       "Unnamed: 0.1                 0\n",
       "Album                        0\n",
       "Type of Album                0\n",
       "Year of Release              0\n",
       "Title                        0\n",
       "Duration(minutes:seconds)    0\n",
       "Lyrics                       0\n",
       "Positive                     0\n",
       "Negative                     0\n",
       "Neutral                      0\n",
       "Compound                     0\n",
       "dtype: int64"
      ]
     },
     "execution_count": 18,
     "metadata": {},
     "output_type": "execute_result"
    }
   ],
   "source": [
    "lyrics.isnull().sum()"
   ]
  },
  {
   "cell_type": "markdown",
   "metadata": {},
   "source": [
    "## Data Cleaning"
   ]
  },
  {
   "cell_type": "code",
   "execution_count": 19,
   "metadata": {},
   "outputs": [],
   "source": [
    "#Algunos group by para conocer bien los datos \n",
    "\n",
    "#Acortar los 00 para considerar minutos y segundos\n",
    "#Pasar a datatime \n",
    "\n",
    "\n",
    "columnas = ['id', 'x', 'Album', 'Tipo', 'Año', 'Titulo', \n",
    "            'Duracion', 'Letra', 'Positivo', 'Negativo', \n",
    "            'Neutral', 'Compuesta']\n",
    "lyrics.columns = columnas"
   ]
  },
  {
   "cell_type": "code",
   "execution_count": 20,
   "metadata": {},
   "outputs": [],
   "source": [
    "#Borramos la columna id\n",
    "\n",
    "del lyrics['id']"
   ]
  },
  {
   "cell_type": "code",
   "execution_count": 21,
   "metadata": {},
   "outputs": [],
   "source": [
    "#Borramos la columna x\n",
    "\n",
    "del lyrics['x']"
   ]
  },
  {
   "cell_type": "code",
   "execution_count": 22,
   "metadata": {},
   "outputs": [
    {
     "data": {
      "text/plain": [
       "Index(['Album', 'Tipo', 'Año', 'Titulo', 'Duracion', 'Letra', 'Positivo',\n",
       "       'Negativo', 'Neutral', 'Compuesta'],\n",
       "      dtype='object')"
      ]
     },
     "execution_count": 22,
     "metadata": {},
     "output_type": "execute_result"
    }
   ],
   "source": [
    "#Chequeamos las nuevas columnas\n",
    "\n",
    "lyrics.columns"
   ]
  },
  {
   "cell_type": "code",
   "execution_count": 23,
   "metadata": {},
   "outputs": [
    {
     "data": {
      "text/plain": [
       "0    03:41:00\n",
       "1    04:42:00\n",
       "2    03:52:00\n",
       "3    04:48:00\n",
       "4    03:53:00\n",
       "Name: Duracion, dtype: object"
      ]
     },
     "execution_count": 23,
     "metadata": {},
     "output_type": "execute_result"
    }
   ],
   "source": [
    "#Cambiamos el tipo de datos que tiene la columna duracion ya que son strings \n",
    "\n",
    "lyrics['Duracion'].dtypes\n",
    "lyrics['Duracion'].head()"
   ]
  },
  {
   "cell_type": "code",
   "execution_count": 24,
   "metadata": {},
   "outputs": [
    {
     "data": {
      "text/plain": [
       "dtype('<M8[ns]')"
      ]
     },
     "execution_count": 24,
     "metadata": {},
     "output_type": "execute_result"
    }
   ],
   "source": [
    "lyrics['Duracion'] = pd.to_datetime(lyrics['Duracion'], format = \"%H:%M:%S\")\n",
    "lyrics['Duracion'].dtypes\n",
    "\n"
   ]
  },
  {
   "cell_type": "markdown",
   "metadata": {},
   "source": [
    "## Obteniendo los primeros datos de Lyrics "
   ]
  },
  {
   "cell_type": "code",
   "execution_count": 25,
   "metadata": {},
   "outputs": [
    {
     "data": {
      "text/plain": [
       "Album\n",
       "Unbreakable             13\n",
       "Black & Blue            13\n",
       "Backstreet Boys         13\n",
       "Never Gone              12\n",
       "Millennium              12\n",
       "In a World Like This    12\n",
       "DNA                     12\n",
       "This Is Us              11\n",
       "Backstreet's Back       11\n",
       "Name: Titulo, dtype: int64"
      ]
     },
     "execution_count": 25,
     "metadata": {},
     "output_type": "execute_result"
    }
   ],
   "source": [
    "lyrics.groupby('Album')['Titulo'].count().sort_values(ascending = False)"
   ]
  },
  {
   "cell_type": "raw",
   "metadata": {},
   "source": [
    "1. Podemos observar que los albums ('Unbreakable', 'Black & Blue' y 'Backstreet Boys' cuentan con 13 canciones. \n",
    "2. Podemos observar que que todos los albums de los Backstreet Boys superan las 10 canciones "
   ]
  },
  {
   "cell_type": "code",
   "execution_count": 26,
   "metadata": {},
   "outputs": [
    {
     "data": {
      "text/plain": [
       "Album\n",
       "Backstreet's Back       20.490909\n",
       "This Is Us              17.309091\n",
       "DNA                     17.208333\n",
       "Black & Blue            16.607692\n",
       "In a World Like This    16.183333\n",
       "Millennium              15.833333\n",
       "Never Gone              13.608333\n",
       "Backstreet Boys         13.353846\n",
       "Unbreakable             11.807692\n",
       "Name: Positivo, dtype: float64"
      ]
     },
     "execution_count": 26,
     "metadata": {},
     "output_type": "execute_result"
    }
   ],
   "source": [
    "#Veamos el promedio de palabras de sentimiento utilizadas en cada album \n",
    "\n",
    "lyrics.groupby('Album')['Positivo'].mean().sort_values(ascending = False)"
   ]
  },
  {
   "cell_type": "markdown",
   "metadata": {},
   "source": [
    "Backstreet's Back es el disco que más sentimiento positivo utilizó en sus canciones"
   ]
  },
  {
   "cell_type": "code",
   "execution_count": 27,
   "metadata": {},
   "outputs": [
    {
     "data": {
      "text/plain": [
       "Album\n",
       "Unbreakable             11.869231\n",
       "This Is Us               8.963636\n",
       "Never Gone               8.641667\n",
       "DNA                      7.858333\n",
       "Millennium               7.666667\n",
       "Black & Blue             6.576923\n",
       "In a World Like This     6.483333\n",
       "Backstreet's Back        5.809091\n",
       "Backstreet Boys          5.638462\n",
       "Name: Negativo, dtype: float64"
      ]
     },
     "execution_count": 27,
     "metadata": {},
     "output_type": "execute_result"
    }
   ],
   "source": [
    "lyrics.groupby('Album')['Negativo'].mean().sort_values(ascending = False)"
   ]
  },
  {
   "cell_type": "markdown",
   "metadata": {},
   "source": [
    "Unbreakable es el album que más sentimiento negativo utilizó en sus canciones"
   ]
  },
  {
   "cell_type": "code",
   "execution_count": 28,
   "metadata": {},
   "outputs": [
    {
     "data": {
      "text/plain": [
       "Album\n",
       "Backstreet Boys         81.023077\n",
       "Never Gone              77.758333\n",
       "In a World Like This    77.358333\n",
       "Black & Blue            76.830769\n",
       "Millennium              76.491667\n",
       "Unbreakable             76.338462\n",
       "DNA                     74.933333\n",
       "This Is Us              73.718182\n",
       "Backstreet's Back       73.690909\n",
       "Name: Neutral, dtype: float64"
      ]
     },
     "execution_count": 28,
     "metadata": {},
     "output_type": "execute_result"
    }
   ],
   "source": [
    "lyrics.groupby('Album')['Neutral'].mean().sort_values(ascending = False)"
   ]
  },
  {
   "cell_type": "markdown",
   "metadata": {},
   "source": [
    "BackStreet Boys es el álbum que más sentimiento neutral utilizó en sus canciones"
   ]
  },
  {
   "cell_type": "code",
   "execution_count": 29,
   "metadata": {},
   "outputs": [
    {
     "data": {
      "text/plain": [
       "Album\n",
       "Backstreet Boys         61.844615\n",
       "Backstreet's Back       94.184545\n",
       "Black & Blue            55.072308\n",
       "DNA                     56.585833\n",
       "In a World Like This    33.094167\n",
       "Millennium              50.049167\n",
       "Never Gone              33.856667\n",
       "This Is Us              45.265455\n",
       "Unbreakable              7.681538\n",
       "Name: Compuesta, dtype: float64"
      ]
     },
     "execution_count": 29,
     "metadata": {},
     "output_type": "execute_result"
    }
   ],
   "source": [
    "lyrics.groupby('Album')['Compuesta'].mean()"
   ]
  },
  {
   "cell_type": "markdown",
   "metadata": {},
   "source": [
    "Backstreet's Back es el mejor álbum en general, justamente es el álbum donde más palabras utilizaron"
   ]
  },
  {
   "cell_type": "markdown",
   "metadata": {},
   "source": [
    "#### Analizando el album Backstreet's Back"
   ]
  },
  {
   "cell_type": "code",
   "execution_count": 30,
   "metadata": {},
   "outputs": [],
   "source": [
    "mejor_album = lyrics[lyrics['Album'] == \"Backstreet's Back\"]"
   ]
  },
  {
   "cell_type": "code",
   "execution_count": 31,
   "metadata": {},
   "outputs": [
    {
     "data": {
      "text/plain": [
       "Titulo\n",
       "That's the Way I Like It                                   28.1\n",
       "If You Want It to Be Good Girl (Get Yourself a Bad Boy)    27.4\n",
       "All I Have to Give                                         26.1\n",
       "10,000 Promises                                            24.1\n",
       "That's What She Said                                       21.8\n",
       "Like a Child                                               20.9\n",
       "Set Adrift on Memory Bliss                                 19.6\n",
       "As Long as You Love Me                                     18.3\n",
       "Everybody (Backstreet's Back)                              17.3\n",
       "If I Don't Have You                                        12.4\n",
       "Hey, Mr. DJ (Keep Playin' This Song)                        9.4\n",
       "Name: Positivo, dtype: float64"
      ]
     },
     "execution_count": 31,
     "metadata": {},
     "output_type": "execute_result"
    }
   ],
   "source": [
    "mejor_album.groupby('Titulo')['Positivo'].mean().sort_values(ascending = False)"
   ]
  },
  {
   "cell_type": "markdown",
   "metadata": {},
   "source": [
    "'That's the Way I Like It' es la canción con más sentimiento positivo ha utilizado en sus palabras"
   ]
  },
  {
   "cell_type": "code",
   "execution_count": 32,
   "metadata": {},
   "outputs": [
    {
     "data": {
      "text/html": [
       "<div>\n",
       "<style scoped>\n",
       "    .dataframe tbody tr th:only-of-type {\n",
       "        vertical-align: middle;\n",
       "    }\n",
       "\n",
       "    .dataframe tbody tr th {\n",
       "        vertical-align: top;\n",
       "    }\n",
       "\n",
       "    .dataframe thead th {\n",
       "        text-align: right;\n",
       "    }\n",
       "</style>\n",
       "<table border=\"1\" class=\"dataframe\">\n",
       "  <thead>\n",
       "    <tr style=\"text-align: right;\">\n",
       "      <th></th>\n",
       "      <th>Unnamed: 0</th>\n",
       "      <th>Album</th>\n",
       "      <th>Type of Album</th>\n",
       "      <th>Year of Release</th>\n",
       "      <th>Title</th>\n",
       "      <th>Lyrics</th>\n",
       "      <th>Words</th>\n",
       "    </tr>\n",
       "  </thead>\n",
       "  <tbody>\n",
       "    <tr>\n",
       "      <th>0</th>\n",
       "      <td>0</td>\n",
       "      <td>Backstreet Boys</td>\n",
       "      <td>Studio albums</td>\n",
       "      <td>1996-05-06</td>\n",
       "      <td>We've Got It Goin' On</td>\n",
       "      <td>Everybody groove to the music Everybody jam  W...</td>\n",
       "      <td>Everybody</td>\n",
       "    </tr>\n",
       "    <tr>\n",
       "      <th>1</th>\n",
       "      <td>1</td>\n",
       "      <td>Backstreet Boys</td>\n",
       "      <td>Studio albums</td>\n",
       "      <td>1996-05-06</td>\n",
       "      <td>We've Got It Goin' On</td>\n",
       "      <td>Everybody groove to the music Everybody jam  W...</td>\n",
       "      <td>groove</td>\n",
       "    </tr>\n",
       "    <tr>\n",
       "      <th>2</th>\n",
       "      <td>2</td>\n",
       "      <td>Backstreet Boys</td>\n",
       "      <td>Studio albums</td>\n",
       "      <td>1996-05-06</td>\n",
       "      <td>We've Got It Goin' On</td>\n",
       "      <td>Everybody groove to the music Everybody jam  W...</td>\n",
       "      <td>to</td>\n",
       "    </tr>\n",
       "    <tr>\n",
       "      <th>3</th>\n",
       "      <td>3</td>\n",
       "      <td>Backstreet Boys</td>\n",
       "      <td>Studio albums</td>\n",
       "      <td>1996-05-06</td>\n",
       "      <td>We've Got It Goin' On</td>\n",
       "      <td>Everybody groove to the music Everybody jam  W...</td>\n",
       "      <td>the</td>\n",
       "    </tr>\n",
       "    <tr>\n",
       "      <th>4</th>\n",
       "      <td>4</td>\n",
       "      <td>Backstreet Boys</td>\n",
       "      <td>Studio albums</td>\n",
       "      <td>1996-05-06</td>\n",
       "      <td>We've Got It Goin' On</td>\n",
       "      <td>Everybody groove to the music Everybody jam  W...</td>\n",
       "      <td>music</td>\n",
       "    </tr>\n",
       "  </tbody>\n",
       "</table>\n",
       "</div>"
      ],
      "text/plain": [
       "   Unnamed: 0            Album  Type of Album Year of Release  \\\n",
       "0           0  Backstreet Boys  Studio albums      1996-05-06   \n",
       "1           1  Backstreet Boys  Studio albums      1996-05-06   \n",
       "2           2  Backstreet Boys  Studio albums      1996-05-06   \n",
       "3           3  Backstreet Boys  Studio albums      1996-05-06   \n",
       "4           4  Backstreet Boys  Studio albums      1996-05-06   \n",
       "\n",
       "                   Title                                             Lyrics  \\\n",
       "0  We've Got It Goin' On  Everybody groove to the music Everybody jam  W...   \n",
       "1  We've Got It Goin' On  Everybody groove to the music Everybody jam  W...   \n",
       "2  We've Got It Goin' On  Everybody groove to the music Everybody jam  W...   \n",
       "3  We've Got It Goin' On  Everybody groove to the music Everybody jam  W...   \n",
       "4  We've Got It Goin' On  Everybody groove to the music Everybody jam  W...   \n",
       "\n",
       "       Words  \n",
       "0  Everybody  \n",
       "1     groove  \n",
       "2         to  \n",
       "3        the  \n",
       "4      music  "
      ]
     },
     "execution_count": 32,
     "metadata": {},
     "output_type": "execute_result"
    }
   ],
   "source": [
    "words.head(5)"
   ]
  },
  {
   "cell_type": "code",
   "execution_count": 33,
   "metadata": {},
   "outputs": [],
   "source": [
    "cancion = words[(words['Album'] == \"Backstreet's Back\") & (words['Title'] == \"That's the Way I Like It\")]"
   ]
  },
  {
   "cell_type": "code",
   "execution_count": 34,
   "metadata": {},
   "outputs": [
    {
     "data": {
      "text/html": [
       "<div>\n",
       "<style scoped>\n",
       "    .dataframe tbody tr th:only-of-type {\n",
       "        vertical-align: middle;\n",
       "    }\n",
       "\n",
       "    .dataframe tbody tr th {\n",
       "        vertical-align: top;\n",
       "    }\n",
       "\n",
       "    .dataframe thead th {\n",
       "        text-align: right;\n",
       "    }\n",
       "</style>\n",
       "<table border=\"1\" class=\"dataframe\">\n",
       "  <thead>\n",
       "    <tr style=\"text-align: right;\">\n",
       "      <th></th>\n",
       "      <th>Unnamed: 0</th>\n",
       "      <th>Album</th>\n",
       "      <th>Type of Album</th>\n",
       "      <th>Year of Release</th>\n",
       "      <th>Title</th>\n",
       "      <th>Lyrics</th>\n",
       "      <th>Words</th>\n",
       "    </tr>\n",
       "  </thead>\n",
       "  <tbody>\n",
       "    <tr>\n",
       "      <th>5893</th>\n",
       "      <td>5893</td>\n",
       "      <td>Backstreet's Back</td>\n",
       "      <td>Studio albums</td>\n",
       "      <td>1997-08-11</td>\n",
       "      <td>That's the Way I Like It</td>\n",
       "      <td>Hey (That's the way I like it)  Somebody told ...</td>\n",
       "      <td>Hey</td>\n",
       "    </tr>\n",
       "    <tr>\n",
       "      <th>5894</th>\n",
       "      <td>5894</td>\n",
       "      <td>Backstreet's Back</td>\n",
       "      <td>Studio albums</td>\n",
       "      <td>1997-08-11</td>\n",
       "      <td>That's the Way I Like It</td>\n",
       "      <td>Hey (That's the way I like it)  Somebody told ...</td>\n",
       "      <td>That's</td>\n",
       "    </tr>\n",
       "    <tr>\n",
       "      <th>5895</th>\n",
       "      <td>5895</td>\n",
       "      <td>Backstreet's Back</td>\n",
       "      <td>Studio albums</td>\n",
       "      <td>1997-08-11</td>\n",
       "      <td>That's the Way I Like It</td>\n",
       "      <td>Hey (That's the way I like it)  Somebody told ...</td>\n",
       "      <td>the</td>\n",
       "    </tr>\n",
       "    <tr>\n",
       "      <th>5896</th>\n",
       "      <td>5896</td>\n",
       "      <td>Backstreet's Back</td>\n",
       "      <td>Studio albums</td>\n",
       "      <td>1997-08-11</td>\n",
       "      <td>That's the Way I Like It</td>\n",
       "      <td>Hey (That's the way I like it)  Somebody told ...</td>\n",
       "      <td>way</td>\n",
       "    </tr>\n",
       "    <tr>\n",
       "      <th>5897</th>\n",
       "      <td>5897</td>\n",
       "      <td>Backstreet's Back</td>\n",
       "      <td>Studio albums</td>\n",
       "      <td>1997-08-11</td>\n",
       "      <td>That's the Way I Like It</td>\n",
       "      <td>Hey (That's the way I like it)  Somebody told ...</td>\n",
       "      <td>I</td>\n",
       "    </tr>\n",
       "  </tbody>\n",
       "</table>\n",
       "</div>"
      ],
      "text/plain": [
       "      Unnamed: 0              Album  Type of Album Year of Release  \\\n",
       "5893        5893  Backstreet's Back  Studio albums      1997-08-11   \n",
       "5894        5894  Backstreet's Back  Studio albums      1997-08-11   \n",
       "5895        5895  Backstreet's Back  Studio albums      1997-08-11   \n",
       "5896        5896  Backstreet's Back  Studio albums      1997-08-11   \n",
       "5897        5897  Backstreet's Back  Studio albums      1997-08-11   \n",
       "\n",
       "                         Title  \\\n",
       "5893  That's the Way I Like It   \n",
       "5894  That's the Way I Like It   \n",
       "5895  That's the Way I Like It   \n",
       "5896  That's the Way I Like It   \n",
       "5897  That's the Way I Like It   \n",
       "\n",
       "                                                 Lyrics   Words  \n",
       "5893  Hey (That's the way I like it)  Somebody told ...     Hey  \n",
       "5894  Hey (That's the way I like it)  Somebody told ...  That's  \n",
       "5895  Hey (That's the way I like it)  Somebody told ...     the  \n",
       "5896  Hey (That's the way I like it)  Somebody told ...     way  \n",
       "5897  Hey (That's the way I like it)  Somebody told ...       I  "
      ]
     },
     "execution_count": 34,
     "metadata": {},
     "output_type": "execute_result"
    }
   ],
   "source": [
    "cancion.head()"
   ]
  },
  {
   "cell_type": "code",
   "execution_count": 35,
   "metadata": {},
   "outputs": [],
   "source": [
    "#Guardamos en una lista toda la letra de la cancion\n",
    "\n",
    "lista = list(cancion.Words)"
   ]
  },
  {
   "cell_type": "code",
   "execution_count": 66,
   "metadata": {},
   "outputs": [
    {
     "name": "stdout",
     "output_type": "stream",
     "text": [
      "['Hey', \"That's\", 'the', 'way', 'I', 'like', 'it', 'Somebody', 'told', 'me', 'that', \"you're\", 'not', 'my', 'kind', 'So', 'have', 'I', 'lost', 'my', 'mind', 'You', 'keep', 'on', 'doing', 'all', 'the', 'things', 'I', 'like', 'You', 'got', 'me', 'hypnotized', 'But', \"that's\", 'the', 'way', 'I', 'like', 'it', 'Girl', 'you', 'make', 'me', 'wanna', 'move', \"It's\", 'a', 'price', 'I', 'got', 'to', 'pay', 'For', 'all', 'the', 'things', 'you', 'do', 'But', 'I', 'like', 'it', 'Gotta', 'listen', 'to', 'the', 'groove', 'And', 'you', 'gotta', 'listen', 'well', 'The', 'way', 'I', 'do', 'it', \"That's\", 'the', 'way', 'I', 'like', 'it', 'Everybody', 'now', 'I', 'like', 'it', 'Everybody', 'now', \"That's\", 'the', 'way', 'I', 'like', 'it', 'Everybody', 'come', 'on', 'I', 'like', 'it', 'Everybody', 'come', 'on', \"That's\", 'the', 'way', 'I', 'like', 'it', 'Oh', 'mystery', 'lady', \"you've\", 'got', 'something', 'I', 'like', 'Tell', 'me', \"you're\", 'here', 'to', 'stay', \"You're\", 'dangerous', 'so', 'baby', 'Could', 'you', 'do', 'me', 'right', 'Will', 'you', 'come', 'out', 'to', 'play', 'Cause', \"that's\", 'the', 'way', 'I', 'like', 'it', 'Gotta', 'listen', 'to', 'the', 'groove', 'And', 'you', 'gotta', 'listen', 'well', 'The', 'way', 'I', 'do', 'it', \"That's\", 'the', 'way', 'I', 'like', 'it', 'Everybody', 'now', 'I', 'like', 'it', 'Everybody', 'now', \"That's\", 'the', 'way', 'I', 'like', 'it', 'Everybody', 'come', 'on', 'I', 'like', 'it', 'Everybody', 'come', 'on', \"That's\", 'the', 'way', 'I', 'like', 'it', 'Everybody', 'come', 'on', 'I', 'like', 'it', 'Everybody', 'come', 'on', 'Gotta', 'listen', 'to', 'the', 'groove', 'And', 'you', 'gotta', 'listen', 'well', 'The', 'way', 'I', 'do', 'it', 'Hey', \"That's\", 'the', 'way', 'that', 'I', 'like', 'it', 'That', 'is', 'the', 'way', 'I', 'like', 'it', \"That's\", 'the', 'way', 'that', 'I', 'like', 'it', 'That', 'is', 'the', 'way', 'I', 'like', 'it', \"That's\", 'the', 'way', 'that', 'I', 'like', 'it', 'Everybody', 'now', 'That', 'is', 'the', 'way', 'I', 'like', 'it', 'Everybody', 'now', \"That's\", 'the', 'way', 'that', 'I', 'like', 'it', 'Everybody', 'come', 'on', \"That's\", 'the', 'way', 'I', 'like', 'it', 'Everybody', 'come', 'on', \"That's\", 'the', 'way', 'I', 'like', 'it', \"That's\", 'the', 'way', 'I', 'like', 'it']\n"
     ]
    }
   ],
   "source": [
    "#La letra se puede observar desordenada y ubicamos un NAN en poscion 7\n",
    "#Por eso necesitamos eliminarlo\n",
    "\n",
    "print(lista)"
   ]
  },
  {
   "cell_type": "code",
   "execution_count": 38,
   "metadata": {},
   "outputs": [],
   "source": [
    "lista.remove(lista[7])"
   ]
  },
  {
   "cell_type": "code",
   "execution_count": 40,
   "metadata": {},
   "outputs": [],
   "source": [
    "lista.remove(lista[41])"
   ]
  },
  {
   "cell_type": "code",
   "execution_count": 42,
   "metadata": {},
   "outputs": [],
   "source": [
    "lista.remove(lista[64])"
   ]
  },
  {
   "cell_type": "code",
   "execution_count": 44,
   "metadata": {},
   "outputs": [],
   "source": [
    "lista.remove(lista[85])"
   ]
  },
  {
   "cell_type": "code",
   "execution_count": 48,
   "metadata": {},
   "outputs": [],
   "source": [
    "lista.remove(lista[113])"
   ]
  },
  {
   "cell_type": "code",
   "execution_count": 50,
   "metadata": {},
   "outputs": [],
   "source": [
    "lista.remove(lista[149])"
   ]
  },
  {
   "cell_type": "code",
   "execution_count": 52,
   "metadata": {},
   "outputs": [],
   "source": [
    "lista.remove(lista[170])"
   ]
  },
  {
   "cell_type": "code",
   "execution_count": 54,
   "metadata": {},
   "outputs": [],
   "source": [
    "lista.remove(lista[198])"
   ]
  },
  {
   "cell_type": "code",
   "execution_count": 56,
   "metadata": {},
   "outputs": [],
   "source": [
    "lista.remove(lista[207])"
   ]
  },
  {
   "cell_type": "code",
   "execution_count": 58,
   "metadata": {},
   "outputs": [],
   "source": [
    "lista.remove(lista[223])"
   ]
  },
  {
   "cell_type": "code",
   "execution_count": 60,
   "metadata": {},
   "outputs": [],
   "source": [
    "lista.remove(lista[251])"
   ]
  },
  {
   "cell_type": "code",
   "execution_count": 68,
   "metadata": {},
   "outputs": [],
   "source": [
    "#Letra de la cancion\n",
    "\n",
    "cancion = \" \".join(lista)"
   ]
  },
  {
   "cell_type": "code",
   "execution_count": 70,
   "metadata": {},
   "outputs": [
    {
     "data": {
      "text/plain": [
       "TextBlob(\"Hey That's the way I like it Somebody told me that you're not my kind So have I lost my mind You keep on doing all the things I like You got me hypnotized But that's the way I like it Girl you make me wanna move It's a price I got to pay For all the things you do But I like it Gotta listen to the groove And you gotta listen well The way I do it That's the way I like it Everybody now I like it Everybody now That's the way I like it Everybody come on I like it Everybody come on That's the way I like it Oh mystery lady you've got something I like Tell me you're here to stay You're dangerous so baby Could you do me right Will you come out to play Cause that's the way I like it Gotta listen to the groove And you gotta listen well The way I do it That's the way I like it Everybody now I like it Everybody now That's the way I like it Everybody come on I like it Everybody come on That's the way I like it Everybody come on I like it Everybody come on Gotta listen to the groove And you gotta listen well The way I do it Hey That's the way that I like it That is the way I like it That's the way that I like it That is the way I like it That's the way that I like it Everybody now That is the way I like it Everybody now That's the way that I like it Everybody come on That's the way I like it Everybody come on That's the way I like it That's the way I like it\")"
      ]
     },
     "execution_count": 70,
     "metadata": {},
     "output_type": "execute_result"
    }
   ],
   "source": [
    "#Utilizamos la libreria text blob para adjuntar todos los elementos en una variable \n",
    "\n",
    "cancion_txt = TextBlob(cancion)\n",
    "\n",
    "cancion_txt"
   ]
  },
  {
   "cell_type": "code",
   "execution_count": 104,
   "metadata": {},
   "outputs": [
    {
     "data": {
      "text/plain": [
       "TextBlob(\"Oye, así es como me gusta. Alguien me dijo que no eres de mi clase. Así que he perdido la cabeza. Sigues haciendo todas las cosas que me gustan. Me tienes hipnotizado. Pero así es como me gusta. Chica, me haces querer moverme. un precio que tengo que pagar por todas las cosas que haces Pero me gusta Tengo que escuchar el ritmo Y tienes que escuchar bien La forma en que lo hago Así es como me gusta A todos ahora Me gusta Todos ahora Eso es lo que me gusta Todos vengan Me gusta Todos vengan Así es como me gusta Oh, misteriosa dama, tienes algo que me gusta Dime que estás aquí para quedarte Eres peligroso así que cariño ¿Podrías hacerme bien? ¿Saldrás a jugar? Porque así es como me gusta Tengo que escuchar el ritmo Y tienes que escuchar bien La forma en que lo hago Así es como me gusta Todos ahora me gusta Todos ahora Esa es la forma en que me gusta Todos vengan Me gusta Todos vengan Así es como me gusta Todos vengan Me gusta Todos vengan Tengo que escuchar el ritmo Y tienes que escuchar diez bien La forma en que lo hago Hey Así es como me gusta Esa es la forma en que me gusta Esa es la forma en que me gusta Esa es la forma en que me gusta Esa es la forma en que me gusta Todos ahora Esa es la forma en que yo Me gusta Todos ahora Así es como me gusta Todos vengan Así es como me gusta Todos vengan Así me gusta Así me gusta\")"
      ]
     },
     "execution_count": 104,
     "metadata": {},
     "output_type": "execute_result"
    }
   ],
   "source": [
    "#Traducimos al español \n",
    "cancion_txt.translate(to =\"es\")"
   ]
  },
  {
   "cell_type": "code",
   "execution_count": 103,
   "metadata": {},
   "outputs": [
    {
     "data": {
      "text/plain": [
       "Sentiment(polarity=0.09523809523809523, subjectivity=0.7785714285714286)"
      ]
     },
     "execution_count": 103,
     "metadata": {},
     "output_type": "execute_result"
    }
   ],
   "source": [
    "#Analisis de sentimiento de canción \n",
    "\n",
    "cancion_txt.sentiment"
   ]
  },
  {
   "cell_type": "markdown",
   "metadata": {},
   "source": [
    "El sentimiento esta muy poco polarizado y es muy subjetivo"
   ]
  },
  {
   "cell_type": "code",
   "execution_count": 102,
   "metadata": {},
   "outputs": [
    {
     "data": {
      "text/plain": [
       "defaultdict(int,\n",
       "            {'hey': 2,\n",
       "             'that': 24,\n",
       "             's': 17,\n",
       "             'the': 27,\n",
       "             'way': 22,\n",
       "             'i': 32,\n",
       "             'like': 27,\n",
       "             'it': 29,\n",
       "             'somebody': 1,\n",
       "             'told': 1,\n",
       "             'me': 5,\n",
       "             'you': 13,\n",
       "             're': 3,\n",
       "             'not': 1,\n",
       "             'my': 2,\n",
       "             'kind': 1,\n",
       "             'so': 2,\n",
       "             'have': 1,\n",
       "             'lost': 1,\n",
       "             'mind': 1,\n",
       "             'keep': 1,\n",
       "             'on': 9,\n",
       "             'doing': 1,\n",
       "             'all': 2,\n",
       "             'things': 2,\n",
       "             'got': 9,\n",
       "             'hypnotized': 1,\n",
       "             'but': 2,\n",
       "             'girl': 1,\n",
       "             'make': 1,\n",
       "             'wan': 1,\n",
       "             'na': 1,\n",
       "             'move': 1,\n",
       "             'a': 1,\n",
       "             'price': 1,\n",
       "             'to': 6,\n",
       "             'pay': 1,\n",
       "             'for': 1,\n",
       "             'do': 5,\n",
       "             'ta': 6,\n",
       "             'listen': 6,\n",
       "             'groove': 3,\n",
       "             'and': 3,\n",
       "             'well': 3,\n",
       "             'everybody': 14,\n",
       "             'now': 6,\n",
       "             'come': 9,\n",
       "             'oh': 1,\n",
       "             'mystery': 1,\n",
       "             'lady': 1,\n",
       "             've': 1,\n",
       "             'something': 1,\n",
       "             'tell': 1,\n",
       "             'here': 1,\n",
       "             'stay': 1,\n",
       "             'dangerous': 1,\n",
       "             'baby': 1,\n",
       "             'could': 1,\n",
       "             'right': 1,\n",
       "             'will': 1,\n",
       "             'out': 1,\n",
       "             'play': 1,\n",
       "             'cause': 1,\n",
       "             'is': 3,\n",
       "             'Everybody': 0,\n",
       "             'peligroso': 0,\n",
       "             'And': 0})"
      ]
     },
     "execution_count": 102,
     "metadata": {},
     "output_type": "execute_result"
    }
   ],
   "source": [
    "#Conociendo las palabras mas utilizadas en canción 'That's the Way I Like It'\n",
    "\n",
    "cancion_txt.word_counts"
   ]
  },
  {
   "cell_type": "code",
   "execution_count": null,
   "metadata": {},
   "outputs": [],
   "source": []
  }
 ],
 "metadata": {
  "kernelspec": {
   "display_name": "Python 3",
   "language": "python",
   "name": "python3"
  },
  "language_info": {
   "codemirror_mode": {
    "name": "ipython",
    "version": 3
   },
   "file_extension": ".py",
   "mimetype": "text/x-python",
   "name": "python",
   "nbconvert_exporter": "python",
   "pygments_lexer": "ipython3",
   "version": "3.7.3"
  }
 },
 "nbformat": 4,
 "nbformat_minor": 2
}
